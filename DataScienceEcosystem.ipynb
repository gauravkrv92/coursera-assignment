{
 "cells": [
  {
   "cell_type": "markdown",
   "id": "eb53b412-deea-4e6c-b69c-539f156e1127",
   "metadata": {},
   "source": [
    "# Data Science Tools and Ecosystem"
   ]
  },
  {
   "cell_type": "markdown",
   "id": "211020b6-15b3-4b78-a086-f6afbd595be0",
   "metadata": {},
   "source": [
    "In this notebook, Data Science Tools and Ecosystem are summarized."
   ]
  },
  {
   "attachments": {},
   "cell_type": "markdown",
   "id": "929ec2c1-e295-4955-a73a-9e2a47bbb043",
   "metadata": {},
   "source": [
    "Some of the popular languages that Data Scientists use are:\n",
    "1. R\n",
    "2. Python\n",
    "3. Java\n",
    "4. Scala"
   ]
  },
  {
   "cell_type": "markdown",
   "id": "6f19b26f-8879-4077-b94c-6516eaf982ad",
   "metadata": {},
   "source": [
    "Some of the commonly used libraries used by Data Scientists include:\n",
    "1. numpy\n",
    "2. matplotlib\n",
    "3. tensorflow"
   ]
  },
  {
   "cell_type": "markdown",
   "id": "444d56e9-ea5f-4ac6-a54f-e8af8be99042",
   "metadata": {},
   "source": [
    "| Data Science Tools |\n",
    "----------------------\n",
    "|RStudio|\n",
    "|Apache |\n",
    "|Hadoop |"
   ]
  },
  {
   "cell_type": "markdown",
   "id": "39f2b257-23bd-4dcd-acf6-4d7fb748b1c5",
   "metadata": {},
   "source": [
    "### Below are a few examples of evaluating arithmetic expressions in Python"
   ]
  },
  {
   "cell_type": "code",
   "execution_count": 2,
   "id": "314cdd9f-d17e-4b34-bc86-973ab97e35d2",
   "metadata": {},
   "outputs": [
    {
     "data": {
      "text/plain": [
       "17"
      ]
     },
     "execution_count": 2,
     "metadata": {},
     "output_type": "execute_result"
    }
   ],
   "source": [
    "#this a simple arithmetic expression to mutiply then add integers.\n",
    "(3*4)+5"
   ]
  },
  {
   "cell_type": "code",
   "execution_count": 3,
   "id": "38854391-5589-430d-9402-56be89f21e96",
   "metadata": {},
   "outputs": [
    {
     "data": {
      "text/plain": [
       "3.3333333333333335"
      ]
     },
     "execution_count": 3,
     "metadata": {},
     "output_type": "execute_result"
    }
   ],
   "source": [
    "# This will convert 200 minutes to hours by diving by 60.\n",
    "200/60"
   ]
  },
  {
   "cell_type": "markdown",
   "id": "c181bbac-d0c5-4a2c-9153-7cb688801776",
   "metadata": {},
   "source": [
    "**Objectives:**\n",
    "- Python\n",
    "- R\n",
    "- C++\n",
    "- Java\n",
    "- Sql"
   ]
  },
  {
   "cell_type": "markdown",
   "id": "b1bfcbf5-5cab-4f5a-9a00-b2c3342a4566",
   "metadata": {},
   "source": [
    "## Author\n",
    "Gaurav Verma"
   ]
  },
  {
   "cell_type": "code",
   "execution_count": null,
   "id": "f312ff3e-299f-4177-9ece-be2a3281237b",
   "metadata": {},
   "outputs": [],
   "source": []
  }
 ],
 "metadata": {
  "kernelspec": {
   "display_name": "Python 3 (ipykernel)",
   "language": "python",
   "name": "python3"
  },
  "language_info": {
   "codemirror_mode": {
    "name": "ipython",
    "version": 3
   },
   "file_extension": ".py",
   "mimetype": "text/x-python",
   "name": "python",
   "nbconvert_exporter": "python",
   "pygments_lexer": "ipython3",
   "version": "3.11.5"
  }
 },
 "nbformat": 4,
 "nbformat_minor": 5
}
